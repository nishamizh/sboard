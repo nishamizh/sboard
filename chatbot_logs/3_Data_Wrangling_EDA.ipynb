{
 "cells": [
  {
   "cell_type": "markdown",
   "id": "46f796e5-d05a-4901-886c-e2a43a023f66",
   "metadata": {},
   "source": [
    "# Capstone 3 - Data Wrangling and EDA "
   ]
  },
  {
   "cell_type": "code",
   "execution_count": null,
   "id": "27c09ad9-efff-4d70-bd58-3e2b385a6677",
   "metadata": {},
   "outputs": [],
   "source": []
  },
  {
   "cell_type": "code",
   "execution_count": null,
   "id": "e939dc8f-0ba8-4dc9-93a3-f910a91e345d",
   "metadata": {},
   "outputs": [],
   "source": []
  },
  {
   "cell_type": "code",
   "execution_count": null,
   "id": "0c14486f-749f-4d5f-8a9a-44084763ff21",
   "metadata": {},
   "outputs": [],
   "source": []
  },
  {
   "cell_type": "code",
   "execution_count": null,
   "id": "26121368-fc04-4a6e-957b-0ab661d016a4",
   "metadata": {},
   "outputs": [],
   "source": []
  },
  {
   "cell_type": "code",
   "execution_count": null,
   "id": "d131c029-16f1-4db6-9f94-cc355b990ce2",
   "metadata": {},
   "outputs": [],
   "source": []
  },
  {
   "cell_type": "code",
   "execution_count": null,
   "id": "3febb770-9876-438f-b9b9-419284eeed76",
   "metadata": {},
   "outputs": [],
   "source": []
  },
  {
   "cell_type": "code",
   "execution_count": null,
   "id": "0f036e4f-8634-407b-8efe-7fa53bdc0e7b",
   "metadata": {},
   "outputs": [],
   "source": []
  },
  {
   "cell_type": "code",
   "execution_count": null,
   "id": "6edd9eb6-566a-4dad-8306-5330c26f931d",
   "metadata": {},
   "outputs": [],
   "source": []
  },
  {
   "cell_type": "code",
   "execution_count": null,
   "id": "fc1bffa5-ad3e-43d1-bc9c-4b43171f08d0",
   "metadata": {},
   "outputs": [],
   "source": []
  },
  {
   "cell_type": "code",
   "execution_count": null,
   "id": "86009a51-a7c5-4bd5-9d7f-b80459dc3360",
   "metadata": {},
   "outputs": [],
   "source": []
  },
  {
   "cell_type": "code",
   "execution_count": null,
   "id": "2c39afb7-2646-4fcb-9d04-0ef3e939dcd3",
   "metadata": {},
   "outputs": [],
   "source": []
  },
  {
   "cell_type": "code",
   "execution_count": null,
   "id": "c1b60da9-bf1a-421e-a379-9a86f5f0f27f",
   "metadata": {},
   "outputs": [],
   "source": []
  },
  {
   "cell_type": "code",
   "execution_count": null,
   "id": "5d3cfe6d-593b-4cb5-ae5f-b3f26536f0e4",
   "metadata": {},
   "outputs": [],
   "source": []
  },
  {
   "cell_type": "code",
   "execution_count": null,
   "id": "6b2e2d69-98b3-446f-aecb-166993927bfa",
   "metadata": {},
   "outputs": [],
   "source": []
  },
  {
   "cell_type": "code",
   "execution_count": null,
   "id": "5a4b1ab1-e748-4d9e-b718-e7e8fea9430e",
   "metadata": {},
   "outputs": [],
   "source": []
  },
  {
   "cell_type": "code",
   "execution_count": null,
   "id": "e06f359f-6a2e-44ed-975c-954dcdcc1d02",
   "metadata": {},
   "outputs": [],
   "source": []
  },
  {
   "cell_type": "code",
   "execution_count": null,
   "id": "9cc988af-62e1-4446-9e86-258500dbdeda",
   "metadata": {},
   "outputs": [],
   "source": []
  }
 ],
 "metadata": {
  "kernelspec": {
   "display_name": "Python 3 (ipykernel)",
   "language": "python",
   "name": "python3"
  },
  "language_info": {
   "codemirror_mode": {
    "name": "ipython",
    "version": 3
   },
   "file_extension": ".py",
   "mimetype": "text/x-python",
   "name": "python",
   "nbconvert_exporter": "python",
   "pygments_lexer": "ipython3",
   "version": "3.12.7"
  }
 },
 "nbformat": 4,
 "nbformat_minor": 5
}
